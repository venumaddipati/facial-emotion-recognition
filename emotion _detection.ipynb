{
 "cells": [
  {
   "cell_type": "code",
   "execution_count": 2,
   "source": [
    "import cv2\r\n",
    "from keras.backend import  dropout, relu, softmax\r\n",
    "import numpy as np\r\n",
    "import tensorflow as tf\r\n",
    "from tensorflow.keras import layers\r\n",
    "from tensorflow.keras.layers import Conv2D,Activation,MaxPooling2D,Dense,BatchNormalization,Dropout,Flatten\r\n",
    "\r\n",
    "from keras.preprocessing.image import ImageDataGenerator\r\n",
    "from keras.models import Sequential\r\n",
    "from keras.optimizers import Adam\r\n",
    "from tensorflow.python.keras.engine import input_spec\r\n",
    "from tensorflow.python.keras.layers.core import Dropout"
   ],
   "outputs": [],
   "metadata": {}
  },
  {
   "cell_type": "code",
   "execution_count": 3,
   "source": [
    "from keras.preprocessing.image import img_to_array\r\n"
   ],
   "outputs": [],
   "metadata": {}
  },
  {
   "cell_type": "code",
   "execution_count": 4,
   "source": [
    "img_rows=48\r\n",
    "img_cols=48"
   ],
   "outputs": [],
   "metadata": {}
  },
  {
   "cell_type": "code",
   "execution_count": 5,
   "source": [
    "train=ImageDataGenerator(rescale=1./225).flow_from_directory(\r\n",
    "        directory='train',\r\n",
    "        batch_size=8,\r\n",
    "        target_size=(48,48),\r\n",
    "        class_mode=\"categorical\",\r\n",
    "        color_mode='grayscale',    \r\n",
    "    )\r\n",
    "\r\n",
    "test=ImageDataGenerator(rescale=1./225).flow_from_directory(\r\n",
    "        directory='validation',\r\n",
    "        batch_size=8,\r\n",
    "        target_size=(48,48),\r\n",
    "        class_mode=\"categorical\",\r\n",
    "        color_mode='grayscale',  \r\n",
    "    ) \r\n"
   ],
   "outputs": [
    {
     "output_type": "stream",
     "name": "stdout",
     "text": [
      "Found 24282 images belonging to 5 classes.\n",
      "Found 5937 images belonging to 5 classes.\n"
     ]
    }
   ],
   "metadata": {}
  },
  {
   "cell_type": "code",
   "execution_count": 6,
   "source": [
    "model = Sequential()\r\n",
    "\r\n",
    "\r\n",
    "\r\n",
    "model.add(Conv2D(32,(3,3),padding='same',kernel_initializer='he_normal',input_shape=(img_rows,img_cols,1)))\r\n",
    "model.add(Activation('elu'))\r\n",
    "model.add(BatchNormalization())\r\n",
    "model.add(Conv2D(32,(3,3),padding='same',kernel_initializer='he_normal',input_shape=(img_rows,img_cols,1)))\r\n",
    "model.add(Activation('elu'))\r\n",
    "model.add(BatchNormalization())\r\n",
    "model.add(MaxPooling2D(pool_size=(2,2)))\r\n",
    "model.add(Dropout(0.2))\r\n",
    "\r\n",
    "\r\n",
    "\r\n",
    "model.add(Conv2D(64,(3,3),padding='same',kernel_initializer='he_normal'))\r\n",
    "model.add(Activation('elu'))\r\n",
    "model.add(BatchNormalization())\r\n",
    "model.add(Conv2D(64,(3,3),padding='same',kernel_initializer='he_normal'))\r\n",
    "model.add(Activation('elu'))\r\n",
    "model.add(BatchNormalization())\r\n",
    "model.add(MaxPooling2D(pool_size=(2,2)))\r\n",
    "model.add(Dropout(0.2))\r\n",
    "\r\n",
    "\r\n",
    "\r\n",
    "model.add(Conv2D(128,(3,3),padding='same',kernel_initializer='he_normal'))\r\n",
    "model.add(Activation('elu'))\r\n",
    "model.add(BatchNormalization())\r\n",
    "model.add(Conv2D(128,(3,3),padding='same',kernel_initializer='he_normal'))\r\n",
    "model.add(Activation('elu'))\r\n",
    "model.add(BatchNormalization())\r\n",
    "model.add(MaxPooling2D(pool_size=(2,2)))\r\n",
    "model.add(Dropout(0.2))\r\n",
    "\r\n",
    "\r\n",
    "\r\n",
    "model.add(Conv2D(256,(3,3),padding='same',kernel_initializer='he_normal'))\r\n",
    "model.add(Activation('elu'))\r\n",
    "model.add(BatchNormalization())\r\n",
    "model.add(Conv2D(256,(3,3),padding='same',kernel_initializer='he_normal'))\r\n",
    "model.add(Activation('elu'))\r\n",
    "model.add(BatchNormalization())\r\n",
    "model.add(MaxPooling2D(pool_size=(2,2)))\r\n",
    "model.add(Dropout(0.2))\r\n",
    "\r\n",
    "\r\n",
    "\r\n",
    "model.add(Flatten())\r\n",
    "model.add(Dense(64,kernel_initializer='he_normal'))\r\n",
    "model.add(Activation('elu'))\r\n",
    "model.add(BatchNormalization())\r\n",
    "model.add(Dropout(0.5))\r\n",
    "\r\n",
    "\r\n",
    "\r\n",
    "model.add(Dense(64,kernel_initializer='he_normal'))\r\n",
    "model.add(Activation('elu'))\r\n",
    "model.add(BatchNormalization())\r\n",
    "model.add(Dropout(0.5))\r\n",
    "\r\n",
    "\r\n",
    "\r\n",
    "model.add(Dense(5,kernel_initializer='he_normal'))\r\n",
    "model.add(Activation('softmax'))"
   ],
   "outputs": [],
   "metadata": {}
  },
  {
   "cell_type": "code",
   "execution_count": 7,
   "source": [
    "model.compile(loss='categorical_crossentropy',\r\n",
    "              optimizer = Adam(learning_rate=0.001),\r\n",
    "              metrics=['accuracy'])"
   ],
   "outputs": [],
   "metadata": {}
  },
  {
   "cell_type": "code",
   "execution_count": null,
   "source": [
    "model.fit_generator(\r\n",
    "                train,\r\n",
    "                steps_per_epoch=24282//8,\r\n",
    "                epochs=25,\r\n",
    "                validation_data=test,\r\n",
    "                validation_steps=5937//8)\r\n"
   ],
   "outputs": [],
   "metadata": {}
  },
  {
   "cell_type": "code",
   "execution_count": null,
   "source": [
    "model.save_weights('emotion.h5')"
   ],
   "outputs": [],
   "metadata": {}
  },
  {
   "cell_type": "code",
   "execution_count": 9,
   "source": [
    "model.load_weights('emotion.h5')"
   ],
   "outputs": [],
   "metadata": {}
  },
  {
   "cell_type": "code",
   "execution_count": 10,
   "source": [
    "import requests\r\n",
    "import imutils"
   ],
   "outputs": [],
   "metadata": {}
  },
  {
   "cell_type": "code",
   "execution_count": 11,
   "source": [
    "face_classifier = cv2.CascadeClassifier('haarcascade_frontalface_default (1).xml')\r\n",
    "class_labels = ['Angry','Happy','Normal','Sad','Surprise']\r\n",
    "cap = cv2.VideoCapture(0)\r\n",
    "url=\"http://192.168.0.100:8080/shot.jpg\"\r\n",
    "while True:\r\n",
    "    #ret, img = cap.read()\r\n",
    "     img_resp = requests.get(url)\r\n",
    "    img_arr = np.array(bytearray(img_resp.content), dtype=np.uint8)\r\n",
    "    img = cv2.imdecode(img_arr, -1)\r\n",
    "    img = imutils.resize(img, width=1000, height=1800)\r\n",
    "    gray=cv2.cvtColor(img,cv2.COLOR_BGR2GRAY)\r\n",
    "    labels = []\r\n",
    "\r\n",
    "    \r\n",
    "    faces = face_classifier.detectMultiScale(gray,1.3,3)\r\n",
    "\r\n",
    "    for (x,y,w,h) in faces:\r\n",
    "        cv2.rectangle(img,(x,y),(x+w,y+h),(0,225,0),2)\r\n",
    "        roi_gray = gray[y:y+h,x:x+w]\r\n",
    "        roi_gray = cv2.resize(roi_gray,(48,48),interpolation=cv2.INTER_AREA)\r\n",
    "        if np.sum([roi_gray])!=0:\r\n",
    "            roi = roi_gray.astype('float')/255.0\r\n",
    "            roi = img_to_array(roi)\r\n",
    "            roi = np.expand_dims(roi,axis=0)\r\n",
    "            preds = model.predict(roi)[0]\r\n",
    "            label=class_labels[preds.argmax()]\r\n",
    "            label_position = (50,50)\r\n",
    "            cv2.putText(img,label,label_position,cv2.FONT_HERSHEY_SIMPLEX,2,(225,0,0),2)\r\n",
    "        else:\r\n",
    "            cv2.putText(img,'No Face Found',(20,60),cv2.FONT_HERSHEY_SIMPLEX,2,(0,255,0),3)\r\n",
    "    cv2.imshow('Emotion Detector',img)\r\n",
    "    if cv2.waitKey(1) & 0xFF == ord('q'):\r\n",
    "        break\r\n",
    "cv2.destroyAllWindows()\r\n",
    "\r\n"
   ],
   "outputs": [],
   "metadata": {}
  }
 ],
 "metadata": {
  "interpreter": {
   "hash": "670611b803141353071031e85b5edcc85bc584d1ae2cc75b9a31456d88826c36"
  },
  "kernelspec": {
   "display_name": "Python 3.9.5 64-bit ('PythonSoftwareFoundation.Python.3.9_qbz5n2kfra8p0')",
   "name": "python3"
  },
  "language_info": {
   "name": "python",
   "version": ""
  },
  "orig_nbformat": 4
 },
 "nbformat": 4,
 "nbformat_minor": 2
}